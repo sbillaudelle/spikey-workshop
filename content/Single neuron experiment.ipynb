{
 "cells": [
  {
   "cell_type": "code",
   "execution_count": null,
   "metadata": {
    "collapsed": true
   },
   "outputs": [],
   "source": [
    "from IPython.display import Image"
   ]
  },
  {
   "cell_type": "code",
   "execution_count": null,
   "metadata": {
    "collapsed": false
   },
   "outputs": [],
   "source": [
    "%%file single_neuron.py\n",
    "\n",
    "import numpy as np\n",
    "import matplotlib.pyplot as plt\n",
    "\n",
    "import pyNN.hardware.spikey as pynn\n",
    "\n",
    "pynn.setup()\n",
    "\n",
    "# TODO: set up stimulus\n",
    "\n",
    "# TODO: set up neuron and record observables\n",
    "\n",
    "# TODO: set up connections\n",
    "\n",
    "pynn.run(200.0)\n",
    "\n",
    "time = pynn.timeMembraneOutput\n",
    "trace = pynn.membraneOutput\n",
    "\n",
    "# TODO: get trace data\n",
    "\n",
    "pynn.end()\n",
    "\n",
    "# set up figure\n",
    "fig = plt.figure(figsize=(12, 6))\n",
    "ax = fig.gca()\n",
    "\n",
    "ax.set_xlabel(r\"time [\\si{\\milli\\second}]\")\n",
    "ax.set_ylabel(r\"membrane voltage [\\si{\\milli\\volt}]\")\n",
    "\n",
    "# TODO: plot trace\n",
    "\n",
    "fig.savefig(\"single_neuron.png\")"
   ]
  },
  {
   "cell_type": "code",
   "execution_count": null,
   "metadata": {
    "collapsed": false
   },
   "outputs": [],
   "source": [
    "! srun --gres=STATION python single_neuron.py"
   ]
  },
  {
   "cell_type": "code",
   "execution_count": null,
   "metadata": {
    "collapsed": true
   },
   "outputs": [],
   "source": [
    "from IPython.display import Image"
   ]
  },
  {
   "cell_type": "code",
   "execution_count": null,
   "metadata": {
    "collapsed": false
   },
   "outputs": [],
   "source": [
    "Image(filename=\"single_neuron.png\")"
   ]
  },
  {
   "cell_type": "code",
   "execution_count": null,
   "metadata": {
    "collapsed": true
   },
   "outputs": [],
   "source": []
  }
 ],
 "metadata": {
  "kernelspec": {
   "display_name": "Python 2",
   "language": "python",
   "name": "python2"
  },
  "language_info": {
   "codemirror_mode": {
    "name": "ipython",
    "version": 2
   },
   "file_extension": ".py",
   "mimetype": "text/x-python",
   "name": "python",
   "nbconvert_exporter": "python",
   "pygments_lexer": "ipython2",
   "version": "2.7.13"
  }
 },
 "nbformat": 4,
 "nbformat_minor": 2
}
